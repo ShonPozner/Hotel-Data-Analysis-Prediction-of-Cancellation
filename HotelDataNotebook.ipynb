{
 "cells": [
  {
   "cell_type": "markdown",
   "id": "f0da5cae",
   "metadata": {},
   "source": [
    "# Hotel Data Analysis - Prediction of Cancellation\n",
    "\n",
    "## Workshop on Data Science"
   ]
  },
  {
   "cell_type": "markdown",
   "id": "81c3d18c",
   "metadata": {},
   "source": [
    "### 0.1 install libraries"
   ]
  },
  {
   "cell_type": "code",
   "execution_count": 620,
   "id": "8078521c",
   "metadata": {},
   "outputs": [],
   "source": [
    "# !pip install pandas\n",
    "# !pip install seaborn\n",
    "# !pip install sklearn\n",
    "# !pip install plotly\n"
   ]
  },
  {
   "cell_type": "markdown",
   "id": "8c701484",
   "metadata": {},
   "source": [
    "### 0.2 Import Python Libraries"
   ]
  },
  {
   "cell_type": "code",
   "execution_count": 621,
   "id": "1326afec",
   "metadata": {},
   "outputs": [],
   "source": [
    "#data processing\n",
    "import pandas as pd\n",
    "import numpy as np\n",
    "\n",
    "\n",
    "#data visualizations\n",
    "import seaborn as sns\n",
    "import matplotlib.pyplot as plt\n",
    "%matplotlib inline\n",
    "\n",
    "sns.set_style(\"whitegrid\")\n",
    "\n"
   ]
  },
  {
   "cell_type": "code",
   "execution_count": 622,
   "id": "3e1fc120",
   "metadata": {},
   "outputs": [],
   "source": [
    "SMALL_SIZE = 12\n",
    "MEDIUM_SIZE = 14\n",
    "BIGGER_SIZE = 16\n",
    "\n",
    "\n",
    "plt.rc('font', size=SMALL_SIZE)          # controls default text sizes\n",
    "plt.rc('axes', titlesize=SMALL_SIZE)     # fontsize of the axes title\n",
    "plt.rc('axes', labelsize=MEDIUM_SIZE)    # fontsize of the x and y labels\n",
    "plt.rc('xtick', labelsize=SMALL_SIZE)    # fontsize of the tick labels\n",
    "plt.rc('ytick', labelsize=SMALL_SIZE)    # fontsize of the tick labels\n",
    "plt.rc('legend', fontsize=SMALL_SIZE)    # legend fontsize\n",
    "plt.rc('figure', titlesize=BIGGER_SIZE)"
   ]
  },
  {
   "cell_type": "markdown",
   "id": "6f776413",
   "metadata": {},
   "source": [
    "### 0.3 Reading the Datase"
   ]
  },
  {
   "cell_type": "code",
   "execution_count": 623,
   "id": "daa742ec",
   "metadata": {},
   "outputs": [],
   "source": [
    "hotel_data = pd.read_csv('data/hotel_bookings.csv')"
   ]
  },
  {
   "cell_type": "markdown",
   "id": "0ffc8a2a",
   "metadata": {},
   "source": [
    "# 1. Exploration (EDA) & Visualization\n"
   ]
  },
  {
   "cell_type": "markdown",
   "id": "07150f74",
   "metadata": {},
   "source": [
    "## Data Info :"
   ]
  },
  {
   "cell_type": "markdown",
   "id": "020f146d",
   "metadata": {},
   "source": [
    "### Size of the Dataset"
   ]
  },
  {
   "cell_type": "code",
   "execution_count": 624,
   "id": "e5d9434a",
   "metadata": {},
   "outputs": [
    {
     "data": {
      "text/plain": [
       "(119390, 32)"
      ]
     },
     "execution_count": 624,
     "metadata": {},
     "output_type": "execute_result"
    }
   ],
   "source": [
    "hotel_data.shape"
   ]
  },
  {
   "cell_type": "markdown",
   "id": "c384f18a",
   "metadata": {},
   "source": [
    "### Columns & Data types"
   ]
  },
  {
   "cell_type": "code",
   "execution_count": 625,
   "id": "159c86e4",
   "metadata": {},
   "outputs": [
    {
     "data": {
      "text/html": [
       "<div>\n",
       "<style scoped>\n",
       "    .dataframe tbody tr th:only-of-type {\n",
       "        vertical-align: middle;\n",
       "    }\n",
       "\n",
       "    .dataframe tbody tr th {\n",
       "        vertical-align: top;\n",
       "    }\n",
       "\n",
       "    .dataframe thead th {\n",
       "        text-align: right;\n",
       "    }\n",
       "</style>\n",
       "<table border=\"1\" class=\"dataframe\">\n",
       "  <thead>\n",
       "    <tr style=\"text-align: right;\">\n",
       "      <th></th>\n",
       "      <th>hotel</th>\n",
       "      <th>is_canceled</th>\n",
       "      <th>lead_time</th>\n",
       "      <th>arrival_date_year</th>\n",
       "      <th>arrival_date_month</th>\n",
       "      <th>arrival_date_week_number</th>\n",
       "      <th>arrival_date_day_of_month</th>\n",
       "      <th>stays_in_weekend_nights</th>\n",
       "      <th>stays_in_week_nights</th>\n",
       "      <th>adults</th>\n",
       "      <th>...</th>\n",
       "      <th>deposit_type</th>\n",
       "      <th>agent</th>\n",
       "      <th>company</th>\n",
       "      <th>days_in_waiting_list</th>\n",
       "      <th>customer_type</th>\n",
       "      <th>adr</th>\n",
       "      <th>required_car_parking_spaces</th>\n",
       "      <th>total_of_special_requests</th>\n",
       "      <th>reservation_status</th>\n",
       "      <th>reservation_status_date</th>\n",
       "    </tr>\n",
       "  </thead>\n",
       "  <tbody>\n",
       "    <tr>\n",
       "      <th>0</th>\n",
       "      <td>Resort Hotel</td>\n",
       "      <td>0</td>\n",
       "      <td>342</td>\n",
       "      <td>2015</td>\n",
       "      <td>July</td>\n",
       "      <td>27</td>\n",
       "      <td>1</td>\n",
       "      <td>0</td>\n",
       "      <td>0</td>\n",
       "      <td>2</td>\n",
       "      <td>...</td>\n",
       "      <td>No Deposit</td>\n",
       "      <td>NaN</td>\n",
       "      <td>NaN</td>\n",
       "      <td>0</td>\n",
       "      <td>Transient</td>\n",
       "      <td>0.0</td>\n",
       "      <td>0</td>\n",
       "      <td>0</td>\n",
       "      <td>Check-Out</td>\n",
       "      <td>2015-07-01</td>\n",
       "    </tr>\n",
       "    <tr>\n",
       "      <th>1</th>\n",
       "      <td>Resort Hotel</td>\n",
       "      <td>0</td>\n",
       "      <td>737</td>\n",
       "      <td>2015</td>\n",
       "      <td>July</td>\n",
       "      <td>27</td>\n",
       "      <td>1</td>\n",
       "      <td>0</td>\n",
       "      <td>0</td>\n",
       "      <td>2</td>\n",
       "      <td>...</td>\n",
       "      <td>No Deposit</td>\n",
       "      <td>NaN</td>\n",
       "      <td>NaN</td>\n",
       "      <td>0</td>\n",
       "      <td>Transient</td>\n",
       "      <td>0.0</td>\n",
       "      <td>0</td>\n",
       "      <td>0</td>\n",
       "      <td>Check-Out</td>\n",
       "      <td>2015-07-01</td>\n",
       "    </tr>\n",
       "    <tr>\n",
       "      <th>2</th>\n",
       "      <td>Resort Hotel</td>\n",
       "      <td>0</td>\n",
       "      <td>7</td>\n",
       "      <td>2015</td>\n",
       "      <td>July</td>\n",
       "      <td>27</td>\n",
       "      <td>1</td>\n",
       "      <td>0</td>\n",
       "      <td>1</td>\n",
       "      <td>1</td>\n",
       "      <td>...</td>\n",
       "      <td>No Deposit</td>\n",
       "      <td>NaN</td>\n",
       "      <td>NaN</td>\n",
       "      <td>0</td>\n",
       "      <td>Transient</td>\n",
       "      <td>75.0</td>\n",
       "      <td>0</td>\n",
       "      <td>0</td>\n",
       "      <td>Check-Out</td>\n",
       "      <td>2015-07-02</td>\n",
       "    </tr>\n",
       "    <tr>\n",
       "      <th>3</th>\n",
       "      <td>Resort Hotel</td>\n",
       "      <td>0</td>\n",
       "      <td>13</td>\n",
       "      <td>2015</td>\n",
       "      <td>July</td>\n",
       "      <td>27</td>\n",
       "      <td>1</td>\n",
       "      <td>0</td>\n",
       "      <td>1</td>\n",
       "      <td>1</td>\n",
       "      <td>...</td>\n",
       "      <td>No Deposit</td>\n",
       "      <td>304.0</td>\n",
       "      <td>NaN</td>\n",
       "      <td>0</td>\n",
       "      <td>Transient</td>\n",
       "      <td>75.0</td>\n",
       "      <td>0</td>\n",
       "      <td>0</td>\n",
       "      <td>Check-Out</td>\n",
       "      <td>2015-07-02</td>\n",
       "    </tr>\n",
       "  </tbody>\n",
       "</table>\n",
       "<p>4 rows × 32 columns</p>\n",
       "</div>"
      ],
      "text/plain": [
       "          hotel  is_canceled  lead_time  arrival_date_year arrival_date_month  \\\n",
       "0  Resort Hotel            0        342               2015               July   \n",
       "1  Resort Hotel            0        737               2015               July   \n",
       "2  Resort Hotel            0          7               2015               July   \n",
       "3  Resort Hotel            0         13               2015               July   \n",
       "\n",
       "   arrival_date_week_number  arrival_date_day_of_month  \\\n",
       "0                        27                          1   \n",
       "1                        27                          1   \n",
       "2                        27                          1   \n",
       "3                        27                          1   \n",
       "\n",
       "   stays_in_weekend_nights  stays_in_week_nights  adults  ...  deposit_type  \\\n",
       "0                        0                     0       2  ...    No Deposit   \n",
       "1                        0                     0       2  ...    No Deposit   \n",
       "2                        0                     1       1  ...    No Deposit   \n",
       "3                        0                     1       1  ...    No Deposit   \n",
       "\n",
       "   agent company days_in_waiting_list customer_type   adr  \\\n",
       "0    NaN     NaN                    0     Transient   0.0   \n",
       "1    NaN     NaN                    0     Transient   0.0   \n",
       "2    NaN     NaN                    0     Transient  75.0   \n",
       "3  304.0     NaN                    0     Transient  75.0   \n",
       "\n",
       "   required_car_parking_spaces  total_of_special_requests  reservation_status  \\\n",
       "0                            0                          0           Check-Out   \n",
       "1                            0                          0           Check-Out   \n",
       "2                            0                          0           Check-Out   \n",
       "3                            0                          0           Check-Out   \n",
       "\n",
       "  reservation_status_date  \n",
       "0              2015-07-01  \n",
       "1              2015-07-01  \n",
       "2              2015-07-02  \n",
       "3              2015-07-02  \n",
       "\n",
       "[4 rows x 32 columns]"
      ]
     },
     "execution_count": 625,
     "metadata": {},
     "output_type": "execute_result"
    }
   ],
   "source": [
    "hotel_data.head(4)"
   ]
  },
  {
   "cell_type": "code",
   "execution_count": 626,
   "id": "7342ee53",
   "metadata": {},
   "outputs": [
    {
     "name": "stdout",
     "output_type": "stream",
     "text": [
      "<class 'pandas.core.frame.DataFrame'>\n",
      "RangeIndex: 119390 entries, 0 to 119389\n",
      "Data columns (total 32 columns):\n",
      " #   Column                          Non-Null Count   Dtype  \n",
      "---  ------                          --------------   -----  \n",
      " 0   hotel                           119390 non-null  object \n",
      " 1   is_canceled                     119390 non-null  int64  \n",
      " 2   lead_time                       119390 non-null  int64  \n",
      " 3   arrival_date_year               119390 non-null  int64  \n",
      " 4   arrival_date_month              119390 non-null  object \n",
      " 5   arrival_date_week_number        119390 non-null  int64  \n",
      " 6   arrival_date_day_of_month       119390 non-null  int64  \n",
      " 7   stays_in_weekend_nights         119390 non-null  int64  \n",
      " 8   stays_in_week_nights            119390 non-null  int64  \n",
      " 9   adults                          119390 non-null  int64  \n",
      " 10  children                        119386 non-null  float64\n",
      " 11  babies                          119390 non-null  int64  \n",
      " 12  meal                            119390 non-null  object \n",
      " 13  country                         118902 non-null  object \n",
      " 14  market_segment                  119390 non-null  object \n",
      " 15  distribution_channel            119390 non-null  object \n",
      " 16  is_repeated_guest               119390 non-null  int64  \n",
      " 17  previous_cancellations          119390 non-null  int64  \n",
      " 18  previous_bookings_not_canceled  119390 non-null  int64  \n",
      " 19  reserved_room_type              119390 non-null  object \n",
      " 20  assigned_room_type              119390 non-null  object \n",
      " 21  booking_changes                 119390 non-null  int64  \n",
      " 22  deposit_type                    119390 non-null  object \n",
      " 23  agent                           103050 non-null  float64\n",
      " 24  company                         6797 non-null    float64\n",
      " 25  days_in_waiting_list            119390 non-null  int64  \n",
      " 26  customer_type                   119390 non-null  object \n",
      " 27  adr                             119390 non-null  float64\n",
      " 28  required_car_parking_spaces     119390 non-null  int64  \n",
      " 29  total_of_special_requests       119390 non-null  int64  \n",
      " 30  reservation_status              119390 non-null  object \n",
      " 31  reservation_status_date         119390 non-null  object \n",
      "dtypes: float64(4), int64(16), object(12)\n",
      "memory usage: 29.1+ MB\n"
     ]
    }
   ],
   "source": [
    "hotel_data.info()"
   ]
  },
  {
   "cell_type": "markdown",
   "id": "20f9bee4",
   "metadata": {},
   "source": [
    "#### There are 32 columns.\n",
    "* 12 Categorical\n",
    "* 20 Numerical\n",
    "\n",
    "#### There are 4 columns with the missing values-\n",
    "* country\n",
    "* agent\n",
    "* company\n",
    "* children"
   ]
  },
  {
   "cell_type": "markdown",
   "id": "3371e0b2",
   "metadata": {},
   "source": [
    "##  Distribution :"
   ]
  },
  {
   "cell_type": "markdown",
   "id": "273af5b5",
   "metadata": {},
   "source": [
    "### Data Statistics"
   ]
  },
  {
   "cell_type": "code",
   "execution_count": 627,
   "id": "391eeed2",
   "metadata": {},
   "outputs": [
    {
     "data": {
      "text/html": [
       "<div>\n",
       "<style scoped>\n",
       "    .dataframe tbody tr th:only-of-type {\n",
       "        vertical-align: middle;\n",
       "    }\n",
       "\n",
       "    .dataframe tbody tr th {\n",
       "        vertical-align: top;\n",
       "    }\n",
       "\n",
       "    .dataframe thead th {\n",
       "        text-align: right;\n",
       "    }\n",
       "</style>\n",
       "<table border=\"1\" class=\"dataframe\">\n",
       "  <thead>\n",
       "    <tr style=\"text-align: right;\">\n",
       "      <th></th>\n",
       "      <th>is_canceled</th>\n",
       "      <th>lead_time</th>\n",
       "      <th>arrival_date_year</th>\n",
       "      <th>arrival_date_week_number</th>\n",
       "      <th>arrival_date_day_of_month</th>\n",
       "      <th>stays_in_weekend_nights</th>\n",
       "      <th>stays_in_week_nights</th>\n",
       "      <th>adults</th>\n",
       "      <th>children</th>\n",
       "      <th>babies</th>\n",
       "      <th>is_repeated_guest</th>\n",
       "      <th>previous_cancellations</th>\n",
       "      <th>previous_bookings_not_canceled</th>\n",
       "      <th>booking_changes</th>\n",
       "      <th>agent</th>\n",
       "      <th>company</th>\n",
       "      <th>days_in_waiting_list</th>\n",
       "      <th>adr</th>\n",
       "      <th>required_car_parking_spaces</th>\n",
       "      <th>total_of_special_requests</th>\n",
       "    </tr>\n",
       "  </thead>\n",
       "  <tbody>\n",
       "    <tr>\n",
       "      <th>count</th>\n",
       "      <td>119390.000000</td>\n",
       "      <td>119390.000000</td>\n",
       "      <td>119390.000000</td>\n",
       "      <td>119390.000000</td>\n",
       "      <td>119390.000000</td>\n",
       "      <td>119390.000000</td>\n",
       "      <td>119390.000000</td>\n",
       "      <td>119390.000000</td>\n",
       "      <td>119386.000000</td>\n",
       "      <td>119390.000000</td>\n",
       "      <td>119390.000000</td>\n",
       "      <td>119390.000000</td>\n",
       "      <td>119390.000000</td>\n",
       "      <td>119390.000000</td>\n",
       "      <td>103050.000000</td>\n",
       "      <td>6797.000000</td>\n",
       "      <td>119390.000000</td>\n",
       "      <td>119390.000000</td>\n",
       "      <td>119390.000000</td>\n",
       "      <td>119390.000000</td>\n",
       "    </tr>\n",
       "    <tr>\n",
       "      <th>mean</th>\n",
       "      <td>0.370416</td>\n",
       "      <td>104.011416</td>\n",
       "      <td>2016.156554</td>\n",
       "      <td>27.165173</td>\n",
       "      <td>15.798241</td>\n",
       "      <td>0.927599</td>\n",
       "      <td>2.500302</td>\n",
       "      <td>1.856403</td>\n",
       "      <td>0.103890</td>\n",
       "      <td>0.007949</td>\n",
       "      <td>0.031912</td>\n",
       "      <td>0.087118</td>\n",
       "      <td>0.137097</td>\n",
       "      <td>0.221124</td>\n",
       "      <td>86.693382</td>\n",
       "      <td>189.266735</td>\n",
       "      <td>2.321149</td>\n",
       "      <td>101.831122</td>\n",
       "      <td>0.062518</td>\n",
       "      <td>0.571363</td>\n",
       "    </tr>\n",
       "    <tr>\n",
       "      <th>std</th>\n",
       "      <td>0.482918</td>\n",
       "      <td>106.863097</td>\n",
       "      <td>0.707476</td>\n",
       "      <td>13.605138</td>\n",
       "      <td>8.780829</td>\n",
       "      <td>0.998613</td>\n",
       "      <td>1.908286</td>\n",
       "      <td>0.579261</td>\n",
       "      <td>0.398561</td>\n",
       "      <td>0.097436</td>\n",
       "      <td>0.175767</td>\n",
       "      <td>0.844336</td>\n",
       "      <td>1.497437</td>\n",
       "      <td>0.652306</td>\n",
       "      <td>110.774548</td>\n",
       "      <td>131.655015</td>\n",
       "      <td>17.594721</td>\n",
       "      <td>50.535790</td>\n",
       "      <td>0.245291</td>\n",
       "      <td>0.792798</td>\n",
       "    </tr>\n",
       "    <tr>\n",
       "      <th>min</th>\n",
       "      <td>0.000000</td>\n",
       "      <td>0.000000</td>\n",
       "      <td>2015.000000</td>\n",
       "      <td>1.000000</td>\n",
       "      <td>1.000000</td>\n",
       "      <td>0.000000</td>\n",
       "      <td>0.000000</td>\n",
       "      <td>0.000000</td>\n",
       "      <td>0.000000</td>\n",
       "      <td>0.000000</td>\n",
       "      <td>0.000000</td>\n",
       "      <td>0.000000</td>\n",
       "      <td>0.000000</td>\n",
       "      <td>0.000000</td>\n",
       "      <td>1.000000</td>\n",
       "      <td>6.000000</td>\n",
       "      <td>0.000000</td>\n",
       "      <td>-6.380000</td>\n",
       "      <td>0.000000</td>\n",
       "      <td>0.000000</td>\n",
       "    </tr>\n",
       "    <tr>\n",
       "      <th>25%</th>\n",
       "      <td>0.000000</td>\n",
       "      <td>18.000000</td>\n",
       "      <td>2016.000000</td>\n",
       "      <td>16.000000</td>\n",
       "      <td>8.000000</td>\n",
       "      <td>0.000000</td>\n",
       "      <td>1.000000</td>\n",
       "      <td>2.000000</td>\n",
       "      <td>0.000000</td>\n",
       "      <td>0.000000</td>\n",
       "      <td>0.000000</td>\n",
       "      <td>0.000000</td>\n",
       "      <td>0.000000</td>\n",
       "      <td>0.000000</td>\n",
       "      <td>9.000000</td>\n",
       "      <td>62.000000</td>\n",
       "      <td>0.000000</td>\n",
       "      <td>69.290000</td>\n",
       "      <td>0.000000</td>\n",
       "      <td>0.000000</td>\n",
       "    </tr>\n",
       "    <tr>\n",
       "      <th>50%</th>\n",
       "      <td>0.000000</td>\n",
       "      <td>69.000000</td>\n",
       "      <td>2016.000000</td>\n",
       "      <td>28.000000</td>\n",
       "      <td>16.000000</td>\n",
       "      <td>1.000000</td>\n",
       "      <td>2.000000</td>\n",
       "      <td>2.000000</td>\n",
       "      <td>0.000000</td>\n",
       "      <td>0.000000</td>\n",
       "      <td>0.000000</td>\n",
       "      <td>0.000000</td>\n",
       "      <td>0.000000</td>\n",
       "      <td>0.000000</td>\n",
       "      <td>14.000000</td>\n",
       "      <td>179.000000</td>\n",
       "      <td>0.000000</td>\n",
       "      <td>94.575000</td>\n",
       "      <td>0.000000</td>\n",
       "      <td>0.000000</td>\n",
       "    </tr>\n",
       "    <tr>\n",
       "      <th>75%</th>\n",
       "      <td>1.000000</td>\n",
       "      <td>160.000000</td>\n",
       "      <td>2017.000000</td>\n",
       "      <td>38.000000</td>\n",
       "      <td>23.000000</td>\n",
       "      <td>2.000000</td>\n",
       "      <td>3.000000</td>\n",
       "      <td>2.000000</td>\n",
       "      <td>0.000000</td>\n",
       "      <td>0.000000</td>\n",
       "      <td>0.000000</td>\n",
       "      <td>0.000000</td>\n",
       "      <td>0.000000</td>\n",
       "      <td>0.000000</td>\n",
       "      <td>229.000000</td>\n",
       "      <td>270.000000</td>\n",
       "      <td>0.000000</td>\n",
       "      <td>126.000000</td>\n",
       "      <td>0.000000</td>\n",
       "      <td>1.000000</td>\n",
       "    </tr>\n",
       "    <tr>\n",
       "      <th>max</th>\n",
       "      <td>1.000000</td>\n",
       "      <td>737.000000</td>\n",
       "      <td>2017.000000</td>\n",
       "      <td>53.000000</td>\n",
       "      <td>31.000000</td>\n",
       "      <td>19.000000</td>\n",
       "      <td>50.000000</td>\n",
       "      <td>55.000000</td>\n",
       "      <td>10.000000</td>\n",
       "      <td>10.000000</td>\n",
       "      <td>1.000000</td>\n",
       "      <td>26.000000</td>\n",
       "      <td>72.000000</td>\n",
       "      <td>21.000000</td>\n",
       "      <td>535.000000</td>\n",
       "      <td>543.000000</td>\n",
       "      <td>391.000000</td>\n",
       "      <td>5400.000000</td>\n",
       "      <td>8.000000</td>\n",
       "      <td>5.000000</td>\n",
       "    </tr>\n",
       "  </tbody>\n",
       "</table>\n",
       "</div>"
      ],
      "text/plain": [
       "         is_canceled      lead_time  arrival_date_year  \\\n",
       "count  119390.000000  119390.000000      119390.000000   \n",
       "mean        0.370416     104.011416        2016.156554   \n",
       "std         0.482918     106.863097           0.707476   \n",
       "min         0.000000       0.000000        2015.000000   \n",
       "25%         0.000000      18.000000        2016.000000   \n",
       "50%         0.000000      69.000000        2016.000000   \n",
       "75%         1.000000     160.000000        2017.000000   \n",
       "max         1.000000     737.000000        2017.000000   \n",
       "\n",
       "       arrival_date_week_number  arrival_date_day_of_month  \\\n",
       "count             119390.000000              119390.000000   \n",
       "mean                  27.165173                  15.798241   \n",
       "std                   13.605138                   8.780829   \n",
       "min                    1.000000                   1.000000   \n",
       "25%                   16.000000                   8.000000   \n",
       "50%                   28.000000                  16.000000   \n",
       "75%                   38.000000                  23.000000   \n",
       "max                   53.000000                  31.000000   \n",
       "\n",
       "       stays_in_weekend_nights  stays_in_week_nights         adults  \\\n",
       "count            119390.000000         119390.000000  119390.000000   \n",
       "mean                  0.927599              2.500302       1.856403   \n",
       "std                   0.998613              1.908286       0.579261   \n",
       "min                   0.000000              0.000000       0.000000   \n",
       "25%                   0.000000              1.000000       2.000000   \n",
       "50%                   1.000000              2.000000       2.000000   \n",
       "75%                   2.000000              3.000000       2.000000   \n",
       "max                  19.000000             50.000000      55.000000   \n",
       "\n",
       "            children         babies  is_repeated_guest  \\\n",
       "count  119386.000000  119390.000000      119390.000000   \n",
       "mean        0.103890       0.007949           0.031912   \n",
       "std         0.398561       0.097436           0.175767   \n",
       "min         0.000000       0.000000           0.000000   \n",
       "25%         0.000000       0.000000           0.000000   \n",
       "50%         0.000000       0.000000           0.000000   \n",
       "75%         0.000000       0.000000           0.000000   \n",
       "max        10.000000      10.000000           1.000000   \n",
       "\n",
       "       previous_cancellations  previous_bookings_not_canceled  \\\n",
       "count           119390.000000                   119390.000000   \n",
       "mean                 0.087118                        0.137097   \n",
       "std                  0.844336                        1.497437   \n",
       "min                  0.000000                        0.000000   \n",
       "25%                  0.000000                        0.000000   \n",
       "50%                  0.000000                        0.000000   \n",
       "75%                  0.000000                        0.000000   \n",
       "max                 26.000000                       72.000000   \n",
       "\n",
       "       booking_changes          agent      company  days_in_waiting_list  \\\n",
       "count    119390.000000  103050.000000  6797.000000         119390.000000   \n",
       "mean          0.221124      86.693382   189.266735              2.321149   \n",
       "std           0.652306     110.774548   131.655015             17.594721   \n",
       "min           0.000000       1.000000     6.000000              0.000000   \n",
       "25%           0.000000       9.000000    62.000000              0.000000   \n",
       "50%           0.000000      14.000000   179.000000              0.000000   \n",
       "75%           0.000000     229.000000   270.000000              0.000000   \n",
       "max          21.000000     535.000000   543.000000            391.000000   \n",
       "\n",
       "                 adr  required_car_parking_spaces  total_of_special_requests  \n",
       "count  119390.000000                119390.000000              119390.000000  \n",
       "mean      101.831122                     0.062518                   0.571363  \n",
       "std        50.535790                     0.245291                   0.792798  \n",
       "min        -6.380000                     0.000000                   0.000000  \n",
       "25%        69.290000                     0.000000                   0.000000  \n",
       "50%        94.575000                     0.000000                   0.000000  \n",
       "75%       126.000000                     0.000000                   1.000000  \n",
       "max      5400.000000                     8.000000                   5.000000  "
      ]
     },
     "execution_count": 627,
     "metadata": {},
     "output_type": "execute_result"
    }
   ],
   "source": [
    "hotel_data.describe()"
   ]
  },
  {
   "cell_type": "markdown",
   "id": "e0af239c",
   "metadata": {},
   "source": [
    "* Most of the columns are full - according to the count line\n",
    "* Avg. lead time is 104 days, around 3.5 months.\n",
    "* Each booking has on an average 1.8 adults and 0.1 children.\n",
    "* Only 3% of the guests are repeated.\n",
    "* Median lead time is 69 days."
   ]
  },
  {
   "cell_type": "markdown",
   "id": "c5ce1322",
   "metadata": {},
   "source": [
    "###  Class distribution"
   ]
  },
  {
   "cell_type": "code",
   "execution_count": 628,
   "id": "cf091e00",
   "metadata": {},
   "outputs": [
    {
     "data": {
      "text/plain": [
       "Text(0.5, 1.0, 'Canceled Distributions')"
      ]
     },
     "execution_count": 628,
     "metadata": {},
     "output_type": "execute_result"
    },
    {
     "data": {
      "image/png": "[encoded data removed]",
      "text/plain": [
       "<Figure size 432x288 with 1 Axes>"
      ]
     },
     "metadata": {},
     "output_type": "display_data"
    }
   ],
   "source": [
    "eda_data = hotel_data.copy()\n",
    "eda_data['is_canceled'] = eda_data.is_canceled.replace([1,0],[\"Cancelled\",\"Not Cancelled\"])\n",
    "eda_data['is_repeated_guest'] = hotel_data.is_repeated_guest.replace([1,0],[\"Repeated\",\"Not Repeated\"])\n",
    "\n",
    "\n",
    "sns.countplot(x='is_canceled', data=eda_data)\n",
    "plt.title('Canceled Distributions', fontsize=14)"
   ]
  },
  {
   "cell_type": "code",
   "execution_count": 629,
   "id": "9467c90f",
   "metadata": {},
   "outputs": [
    {
     "data": {
      "text/plain": [
       "0    62.958372\n",
       "1    37.041628\n",
       "Name: is_canceled, dtype: float64"
      ]
     },
     "execution_count": 629,
     "metadata": {},
     "output_type": "execute_result"
    }
   ],
   "source": [
    "hotel_data['is_canceled'].value_counts()/hotel_data.shape[0]*100"
   ]
  },
  {
   "cell_type": "markdown",
   "id": "be39a02e",
   "metadata": {},
   "source": [
    "#### Canceled Distribution :\n",
    "* Not Canceled: 62.96%\n",
    "* Canceled: 37.04%"
   ]
  },
  {
   "cell_type": "markdown",
   "id": "7c6c789d",
   "metadata": {},
   "source": [
    "## Introducing the various features :\n"
   ]
  },
  {
   "cell_type": "code",
   "execution_count": 630,
   "id": "65b8a5e6",
   "metadata": {},
   "outputs": [],
   "source": [
    "\n",
    "\n",
    "numeric_variables_normal = ['lead_time','arrival_date_week_number','total_of_special_requests']\n",
    "\n",
    "numeric_variables_normal2 = ['arrival_date_day_of_month', 'arrival_date_year','stays_in_weekend_nights',\n",
    "                             'stays_in_week_nights','babies', 'booking_changes', 'company', 'adr']\n",
    "\n",
    "\n",
    "numeric_variables_log1 = ['adults','children','previous_cancellations']\n",
    "numeric_variables_log2 = ['previous_bookings_not_canceled','days_in_waiting_list','required_car_parking_spaces']"
   ]
  },
  {
   "cell_type": "code",
   "execution_count": 631,
   "id": "4bd9b043",
   "metadata": {},
   "outputs": [],
   "source": [
    "\n",
    "#      reservation_status_date\n",
    "#  30  reservation_status              \n"
   ]
  },
  {
   "cell_type": "markdown",
   "id": "1657de28",
   "metadata": {},
   "source": [
    "### Categorical Variables :"
   ]
  },
  {
   "cell_type": "code",
   "execution_count": 632,
   "id": "d76097fe",
   "metadata": {},
   "outputs": [
    {
     "name": "stdout",
     "output_type": "stream",
     "text": [
      "country : 177 \n",
      "\n",
      "market_segment : 8 \n",
      "\n",
      "agent : 333 \n",
      "\n",
      "arrival_date_month : 12 \n",
      "\n",
      "meal : 5 \n",
      "\n",
      "reserved_room_type : 10 \n",
      "\n",
      "assigned_room_type : 12 \n",
      "\n"
     ]
    }
   ],
   "source": [
    "categorical_variables = ['country', 'market_segment', 'agent','arrival_date_month', 'meal', 'reserved_room_type', 'assigned_room_type' ]\n",
    "for i in categorical_variables:\n",
    "    print((\"{} : {} \\n\").format(i,hotel_data[i].nunique()))"
   ]
  },
  {
   "cell_type": "code",
   "execution_count": 633,
   "id": "a22dac8e",
   "metadata": {},
   "outputs": [
    {
     "data": {
      "image/png": "[encoded data removed]",
      "text/plain": [
       "<Figure size 1296x432 with 1 Axes>"
      ]
     },
     "metadata": {},
     "output_type": "display_data"
    }
   ],
   "source": [
    "plt.figure(figsize=(18,6))\n",
    "country_booking = hotel_data['country'].value_counts(normalize=True).rename_axis('country').reset_index(name='Percentage')\n",
    "sns.barplot(x='country', y='Percentage', data=country_booking.head(10))\n",
    "plt.title('Country of Customers')\n",
    "plt.show()"
   ]
  },
  {
   "cell_type": "markdown",
   "id": "0238ba4e",
   "metadata": {},
   "source": [
    "* PRT or Portugal has the most booking demand based on the data (more than 60%). It is pretty obvious because if we trace to the publication page, the description tells us that the data source locations are from hotels located in Portugal."
   ]
  },
  {
   "cell_type": "code",
   "execution_count": 634,
   "id": "a1219544",
   "metadata": {},
   "outputs": [
    {
     "data": {
      "image/png": "[encoded data removed]",
      "text/plain": [
       "<Figure size 1584x864 with 6 Axes>"
      ]
     },
     "metadata": {},
     "output_type": "display_data"
    }
   ],
   "source": [
    "#generate a figures grid:\n",
    "fig, axes = plt.subplots(2,3,figsize=(22,12))\n",
    "fig.subplots_adjust(hspace=0.5)\n",
    "\n",
    "#we will create a histogram for each categorical attribute\n",
    "n=len(categorical_variables[1:])\n",
    "num_rows = 3\n",
    "max_bars = 8\n",
    "\n",
    "for i,variable in enumerate(categorical_variables[1:]):\n",
    "    #calculate the current place on the grid\n",
    "    r=int(i/num_rows)\n",
    "    c=i%num_rows\n",
    "    \n",
    "    #create the \"value counts\" for the first <max_bars> categories:\n",
    "    u=min(hotel_data[variable].nunique(),max_bars)\n",
    "    vc = hotel_data[variable].value_counts()[:u]\n",
    "    \n",
    "    # plot a bar chart using Pandas\n",
    "    vc.plot(kind='bar',ax=axes[r,c],title=variable , color=\"rbgkm\"[i%5])"
   ]
  },
  {
   "cell_type": "markdown",
   "id": "f21939b3",
   "metadata": {},
   "source": [
    "* reserved_room_type and assigned_room_type similar, We will examine later the option to unify or download one of them\n",
    "* Agent 9 is the most popular\n",
    "* We will present the orders by months in a more orderly manner below\n",
    "* The most common meal is BB (Bed & Breakfast)"
   ]
  },
  {
   "cell_type": "markdown",
   "id": "0e44b0f6",
   "metadata": {},
   "source": [
    "#### Binary Variables :"
   ]
  },
  {
   "cell_type": "code",
   "execution_count": 635,
   "id": "1a9df611",
   "metadata": {},
   "outputs": [],
   "source": [
    "binary_variables = ['hotel', 'is_repeated_guest','is_canceled', 'distribution_channel', 'deposit_type', 'customer_type']"
   ]
  },
  {
   "cell_type": "code",
   "execution_count": null,
   "id": "0bdc2bd9",
   "metadata": {},
   "outputs": [],
   "source": [
    "plt.rcParams.update({'font.size': 10})\n",
    "#initialize a Matplotlib figures grid\n",
    "fig, axes = plt.subplots(2,3,figsize=(18,8))\n",
    "                         \n",
    "fig.subplots_adjust(hspace=0.5)\n",
    "\n",
    "#we will create a histogram for each categorical attribute\n",
    "n=len(binary_variables)\n",
    "num_rows = 3\n",
    "                    \n",
    "#generate a histogram using Pandas, for each numeric variable\n",
    "for i, var in enumerate(binary_variables):\n",
    "    r=int(i/num_rows)\n",
    "    c=i%num_rows         \n",
    "    eda_data[var].value_counts().plot.pie(ax=axes[r,c] ,autopct=\"%.2f%%\")\n",
    "    \n",
    "\n"
   ]
  },
  {
   "cell_type": "markdown",
   "id": "5fd6fa73",
   "metadata": {},
   "source": [
    "* Most hotels are City hotel: 66% \n",
    "* The vast majority of customers are not repeat visitors\n",
    "* In the most of the hotel no policy of diposit\n",
    "* Most of thr custumer are transient (when the booking is not part of a group or contract)\n",
    "* The most poplar Distribution Channel is “TA” means “Travel Agents” and “TO” means “Tour Operators”"
   ]
  },
  {
   "cell_type": "markdown",
   "id": "bbe43ef4",
   "metadata": {},
   "source": [
    "### Numeric Variables :"
   ]
  },
  {
   "cell_type": "code",
   "execution_count": null,
   "id": "057b67c5",
   "metadata": {},
   "outputs": [],
   "source": [
    "numeric_variables_normal = ['lead_time','arrival_date_week_number','total_of_special_requests']\n",
    "\n",
    "numeric_variables_normal2 = ['arrival_date_day_of_month', 'arrival_date_year','stays_in_weekend_nights',\n",
    "                             'stays_in_week_nights','babies', 'booking_changes', 'company', 'adr']"
   ]
  },
  {
   "cell_type": "code",
   "execution_count": null,
   "id": "7bde475c",
   "metadata": {},
   "outputs": [],
   "source": [
    "# Show numeric_variables\n",
    "#initialize a Matplotlib figures grid\n",
    "fig, axes = plt.subplots(1, len(numeric_variables_normal),figsize=(18,3))\n",
    "\n",
    "#generate a histogram using Pandas, for each numeric variable\n",
    "for ind,var in enumerate(numeric_variables_normal):\n",
    "    hotel_data[var].hist(ax=axes[ind],edgecolor='black' ,color=\"rbgkm\"[ind%5])\n",
    "    axes[ind].set_title(var)\n"
   ]
  },
  {
   "cell_type": "markdown",
   "id": "b176d016",
   "metadata": {},
   "source": [
    "* Week 30 is the most popular week for August bookings (holiday)\n",
    "* Earlier lead time is more common\n",
    "* Most visitors do not make special requests"
   ]
  },
  {
   "cell_type": "markdown",
   "id": "ea17cea7",
   "metadata": {},
   "source": [
    "#### Distribution of lead time:"
   ]
  },
  {
   "cell_type": "code",
   "execution_count": null,
   "id": "a2428b9f",
   "metadata": {},
   "outputs": [],
   "source": [
    "sns.kdeplot(hotel_data[\"lead_time\"], kernel='epa')"
   ]
  },
  {
   "cell_type": "markdown",
   "id": "ec73b3d6",
   "metadata": {},
   "source": [
    "* Avg. lead time is 104 days, around 3.5 months.\n",
    "* Median lead time is 69 days.\n",
    "* The decrease in lead time can be seen as time increases\n"
   ]
  },
  {
   "cell_type": "code",
   "execution_count": null,
   "id": "4b1b7a55",
   "metadata": {
    "scrolled": true
   },
   "outputs": [],
   "source": [
    "fig, axes = plt.subplots(2,4,figsize=(18,8))\n",
    "fig.subplots_adjust(hspace=0.5)\n",
    "\n",
    "#we will create a histogram for each categorical attribute\n",
    "n=len(numeric_variables_normal2)\n",
    "num_rows = 4\n",
    "\n",
    "for i,var in enumerate(numeric_variables_normal2):\n",
    "    #calculate the current place on the grid\n",
    "    r=int(i/num_rows)\n",
    "    c= i%num_rows\n",
    "    \n",
    "    \n",
    "    hotel_data[var].hist(ax=axes[r,c] ,edgecolor='black' ,color=\"rbgkm\"[i%5]).set_title(var)\n",
    "\n",
    "    "
   ]
  },
  {
   "cell_type": "markdown",
   "id": "e50c25f4",
   "metadata": {},
   "source": [
    "* Arrival time is kind of uniform distributed, the most popular is arrival at the end of the month\n",
    "* At 2016 was most of the arrival\n",
    "* There are 236 different companies (id) where some of the data in them is null\n",
    "\n",
    "#### Some of the plots are not informative so we will show them more plots:"
   ]
  },
  {
   "cell_type": "code",
   "execution_count": null,
   "id": "bb27177a",
   "metadata": {},
   "outputs": [],
   "source": [
    "fig, axs = plt.subplots(1,3, figsize=(22,3))\n",
    "\n",
    "sns.boxplot(hotel_data.stays_in_weekend_nights, ax=axs[0])\n",
    "axs[0].set_title(\"Stays in weekend - box plot\")\n",
    "\n",
    "sns.boxplot(hotel_data.stays_in_week_nights, ax=axs[1])\n",
    "axs[1].set_title(\"stays in week nights - box plot\")\n",
    "\n",
    "\n",
    "country_booking = hotel_data['stays_in_week_nights'].value_counts(normalize=True).rename_axis('stays_in_week_nights').reset_index(name='Percentage')\n",
    "sns.barplot(ax=axs[2], x='stays_in_week_nights', y='Percentage', data=country_booking.head(10))\n",
    "plt.title('stays_in_week_nights')\n"
   ]
  },
  {
   "cell_type": "markdown",
   "id": "884fbc70",
   "metadata": {},
   "source": [
    "* There are extreme values - people who have booked for more than 5 weeks (over a month)\n",
    "* The avarge pf stay in weekend is 1.19 day and weekday is 3.13\n",
    "* More than 25 percent order 2 days a week"
   ]
  },
  {
   "cell_type": "code",
   "execution_count": null,
   "id": "fb23ca5a",
   "metadata": {},
   "outputs": [],
   "source": [
    "fig, axs = plt.subplots(1,3, figsize=(22,3))\n",
    "\n",
    "\n",
    "country_booking = hotel_data['babies'].value_counts(normalize=True).rename_axis('babies').reset_index(name='Percentage')\n",
    "sns.barplot(ax=axs[0], x='babies', y='Percentage', data=country_booking.head(5))\n",
    "axs[0].set_title('babies (top 5)')\n",
    "\n",
    "cg = hotel_data[hotel_data[\"babies\"] > 0]\n",
    "country_booking = cg['babies'].value_counts(normalize=True).rename_axis('babies').reset_index(name='Percentage')\n",
    "sns.barplot(ax=axs[1], x='babies', y='Percentage', data=country_booking.head(5))\n",
    "axs[1].set_title('babies more than 1 (top 5)')\n",
    "\n",
    "\n",
    "country_booking = hotel_data['booking_changes'].value_counts(normalize=True).rename_axis('booking_changes').reset_index(name='Percentage')\n",
    "sns.barplot(ax=axs[2], x='booking_changes', y='Percentage', data=country_booking.head(5))\n",
    "plt.title('booking_changes')"
   ]
  },
  {
   "cell_type": "markdown",
   "id": "2b240c5d",
   "metadata": {},
   "source": [
    "* The vast majority of orders are with zero babys\n",
    "* Those who did book with a baby usually booked for a single baby\n",
    "* Most people do not change their order"
   ]
  },
  {
   "cell_type": "code",
   "execution_count": null,
   "id": "804b2032",
   "metadata": {},
   "outputs": [],
   "source": [
    "fig, axs = plt.subplots(1,2, figsize=(12,3))\n",
    "\n",
    "sns.kdeplot(hotel_data[\"adr\"], kernel='epa', ax=axs[0])\n",
    "axs[0].set_title(\"Adr - kdeplot\")\n",
    "\n",
    "# days in waiting list not 0.. (boxplot)\n",
    "\n",
    "cg = hotel_data[hotel_data[\"adr\"] < 1000]\n",
    "sns.boxplot(cg[\"adr\"], ax=axs[1])\n",
    "axs[1].set_title(\"Adr - box plot\")"
   ]
  },
  {
   "cell_type": "markdown",
   "id": "72fbceec",
   "metadata": {},
   "source": [
    "#### ADR - Average Daily Rate\n",
    "    Calculated by dividing the sum of all lodging transactions by the total number of staying nights\n",
    "* Can see an average in the 95 range and most of the data is between 90 and 115\n",
    "* There is a some data that is considered extreme (over 210)"
   ]
  },
  {
   "cell_type": "code",
   "execution_count": null,
   "id": "32efe6a7",
   "metadata": {},
   "outputs": [],
   "source": [
    "numeric_variables_log1 = ['adults','children','previous_cancellations']\n",
    "numeric_variables_log2 = ['previous_bookings_not_canceled','days_in_waiting_list','required_car_parking_spaces']\n",
    "# Const\n",
    "bins = []\n",
    "for x in range(-1,5400,1):\n",
    "    bins.append(x+0.5)"
   ]
  },
  {
   "cell_type": "code",
   "execution_count": null,
   "id": "8854ee00",
   "metadata": {},
   "outputs": [],
   "source": [
    "# Show numeric_variables: \n",
    "#initialize a Matplotlib figures grid\n",
    "fig, axes = plt.subplots(1, len(numeric_variables_log1),figsize=(24,3))\n",
    "\n",
    "\n",
    "#generate a histogram using Pandas, for each numeric variable\n",
    "for ind,var in enumerate(numeric_variables_log1):\n",
    "    max_value = int(hotel_data[var].max())\n",
    "    slice_object = slice(max_value)\n",
    "    hotel_data[var].hist(ax=axes[ind],bins=bins[slice_object], edgecolor='black', log=True)\n",
    "    axes[ind].set_title(var)"
   ]
  },
  {
   "cell_type": "markdown",
   "id": "1073ec29",
   "metadata": {},
   "source": [
    "* Most bookings are for 1 adult or more (2 is must commen)\n",
    "* Most customers do not have children (or at least did not include them in the order)\n",
    "* Most people have not previously canceled an order before the current orde\n",
    "\n",
    "#### Can see that there are slight noises in the data : \n",
    "* There are data showing over 20 guests and even 50\n",
    "* Or order with 10 babies (unlikely)"
   ]
  },
  {
   "cell_type": "code",
   "execution_count": null,
   "id": "9f599573",
   "metadata": {},
   "outputs": [],
   "source": [
    "# Show numeric_variables:\n",
    "#initialize a Matplotlib figures grid\n",
    "fig, axes = plt.subplots(1, len(numeric_variables_log2),figsize=(24,3))\n",
    "\n",
    "#generate a histogram using Pandas, for each numeric variable\n",
    "for ind,var in enumerate(numeric_variables_log2):\n",
    "    max_value = int(hotel_data[var].max())\n",
    "    slice_object = slice(max_value)\n",
    "    hotel_data[var].hist(ax=axes[ind],bins=bins[slice_object], edgecolor='black', log=True)\n",
    "    axes[ind].set_title(var)"
   ]
  },
  {
   "cell_type": "markdown",
   "id": "dbfa7114",
   "metadata": {},
   "source": [
    "* It can be seen that according to previous orders most customers do not cancel orders\n",
    "* Most people do not require parking, and those who do, ask for one"
   ]
  },
  {
   "cell_type": "code",
   "execution_count": null,
   "id": "bf8a7573",
   "metadata": {},
   "outputs": [],
   "source": [
    "# days in waiting list not 0.. (boxplot)\n",
    "fig, axs = plt.subplots(1,1, figsize=(6,4))\n",
    "\n",
    "cg = hotel_data[hotel_data[\"days_in_waiting_list\"] > 0]\n",
    "sns.boxplot(cg[\"days_in_waiting_list\"])"
   ]
  },
  {
   "cell_type": "markdown",
   "id": "2109f8c8",
   "metadata": {},
   "source": [
    "* The average time to be on the waiting list is 0.5\n",
    "* The vast majority of straight orderers are happy and not waiting on the waiting list\n",
    "  <br>But those who waited usually waited about 50 days\n",
    "* Most of the waiters are in the range of 40 to 90\n",
    "* There are extreme values that have waited over 170 days (half a year or more)"
   ]
  },
  {
   "cell_type": "markdown",
   "id": "fd875909",
   "metadata": {},
   "source": [
    "## Comparative Visualizations To Cancellation :"
   ]
  },
  {
   "cell_type": "markdown",
   "id": "b4fb9d34",
   "metadata": {},
   "source": [
    "### Market segment vs Cancellations"
   ]
  },
  {
   "cell_type": "code",
   "execution_count": null,
   "id": "c25855ac",
   "metadata": {},
   "outputs": [],
   "source": [
    "_, ax = plt.subplots( nrows = 2, ncols = 1, figsize = (12,8))\n",
    "sns.countplot(x = 'market_segment', data = hotel_data, ax = ax[0])\n",
    "sns.countplot(x = 'market_segment', data = hotel_data, hue = 'is_canceled', ax = ax[1])\n",
    "plt.show()"
   ]
  },
  {
   "cell_type": "markdown",
   "id": "97485262",
   "metadata": {},
   "source": [
    "* It can be seen that the order of the amount of orders in market segment does change in cancellations filter:\n",
    "<br> **from -** \n",
    "<br> &emsp; Online TA -> Offline TA -> Groups -> Direct -> Corporate\n",
    "<br> **To -**\n",
    "<br> &emsp; Online TA -> **Groups** -> **Offline TA** -> Direct -> Corporate\n",
    "\n",
    "#### It is possible that order in a group increased the chances of cancellations\n"
   ]
  },
  {
   "cell_type": "markdown",
   "id": "2aaa0b85",
   "metadata": {},
   "source": [
    "### Date vs Cancellations"
   ]
  },
  {
   "cell_type": "markdown",
   "id": "14b3cb2a",
   "metadata": {},
   "source": [
    "#### Arrival date month"
   ]
  },
  {
   "cell_type": "code",
   "execution_count": null,
   "id": "faff6b60",
   "metadata": {
    "scrolled": true
   },
   "outputs": [],
   "source": [
    "# Number of Canceled Each Month\n",
    "\n",
    "# We can simply use a countplot as we sre visualising categorical data\n",
    "plt.figure(figsize=(20,5))\n",
    "\n",
    "# data we will use in a list\n",
    "l1 = ['is_canceled','arrival_date_month']\n",
    "\n",
    "# plotting\n",
    "sns.countplot(data = hotel_data[l1],x= \"arrival_date_month\",hue=\"is_canceled\",order=[\"January\",\"February\",\"March\",\"April\",\"May\",\"June\",\n",
    "                                                                              \"July\",\"August\",\"September\",\"October\",\"November\",\"December\"]).set_title(\n",
    "'Illustration of Number of Canceled Each Month')\n",
    "plt.xlabel('Month')\n",
    "plt.ylabel('Count')"
   ]
  },
  {
   "cell_type": "markdown",
   "id": "1a70e29b",
   "metadata": {},
   "source": [
    "#### Arrival year"
   ]
  },
  {
   "cell_type": "code",
   "execution_count": null,
   "id": "e4e7f834",
   "metadata": {},
   "outputs": [],
   "source": [
    "hotel_data.groupby(['arrival_date_year'])['is_canceled'].mean()"
   ]
  },
  {
   "cell_type": "markdown",
   "id": "b6790717",
   "metadata": {},
   "source": [
    "#### Arrival week number"
   ]
  },
  {
   "cell_type": "code",
   "execution_count": null,
   "id": "34659927",
   "metadata": {},
   "outputs": [],
   "source": [
    "fig, axs = plt.subplots(2,1, figsize=(16,12))\n",
    "\n",
    "\n",
    "# We can simply use a countplot as we sre visualising categorical data\n",
    "# plt.figure(figsize=(20,5))\n",
    "\n",
    "# data we will use in a list\n",
    "l1 = ['is_canceled','arrival_date_week_number']\n",
    "\n",
    "# plotting\n",
    "sns.countplot(ax = axs[0], data = hotel_data[l1],x= \"arrival_date_week_number\").set_title(\n",
    "'Illustration of Canceled Each week')\n",
    "\n",
    "# plotting\n",
    "sns.countplot(ax = axs[1], data = hotel_data[l1],x= \"arrival_date_week_number\",hue=\"is_canceled\").set_title(\n",
    "'Illustration of Canceled Each week')\n"
   ]
  },
  {
   "cell_type": "markdown",
   "id": "9602d9ae",
   "metadata": {},
   "source": [
    "* Can see similarities between the graphs\n",
    "*There are weeks when the cancellation ratio changes slightly but not something extreme"
   ]
  },
  {
   "cell_type": "markdown",
   "id": "3c3a1c4a",
   "metadata": {},
   "source": [
    "#### Summary  date vs cancellations:\n",
    "* The cancellation rate is quite consistently high during april to october having its peak at august.\n",
    "* There is no direct effect between the month and the amount of cancellations\n",
    "* This year does not affect the cancellation at all around 36%\n",
    "*There are weeks when the cancellation ratio changes slightly but not something extreme\n",
    "\n"
   ]
  },
  {
   "cell_type": "markdown",
   "id": "5441dbd9",
   "metadata": {},
   "source": [
    "### Deposit  type vs Cancellations"
   ]
  },
  {
   "cell_type": "code",
   "execution_count": null,
   "id": "dd8aabcb",
   "metadata": {},
   "outputs": [],
   "source": [
    "_, ax = plt.subplots( nrows = 1, ncols = 2, figsize = (18,4))\n",
    "sns.countplot(x = 'deposit_type', data = hotel_data, hue = 'hotel', ax = ax[0])\n",
    "sns.countplot(x = 'deposit_type', data = hotel_data, hue = 'is_canceled', ax = ax[1])\n",
    "plt.show()"
   ]
  },
  {
   "cell_type": "markdown",
   "id": "e01d5ba2",
   "metadata": {},
   "source": [
    "* Deposit type has 3 categories - No Deposit, refundable, Non Refund\n",
    "* Either customers have opted for no deposit or non refundable deposits.\n",
    "* Maybe refundable deposit type is not offered by the hotels.\n",
    "* All of the non refund bookings have been cancelled in our dataset. That might prove important feature based on how many such   bookings are part of cancelled bookings.\n",
    "* No hotel has refundable deposit type\n",
    "\n",
    "* In city hotel is more common Non Refund deposit policy "
   ]
  },
  {
   "cell_type": "markdown",
   "id": "554be6b5",
   "metadata": {},
   "source": [
    "### Hotel type vs Cancellations"
   ]
  },
  {
   "cell_type": "code",
   "execution_count": null,
   "id": "05c89466",
   "metadata": {},
   "outputs": [],
   "source": [
    "# Let's look into how much of bookings were cancelled in each type of hotel\n",
    "fig, axs = plt.subplots(1,2, figsize=(16,3))\n",
    "\n",
    "sns.countplot(x = 'hotel', data = hotel_data, ax = axs[0], order = hotel_data['hotel'].value_counts().index).set_title('city and resort hotel')\n",
    "\n",
    "lst1 = ['is_canceled', 'hotel']\n",
    "type_of_hotel_canceled = eda_data[lst1]\n",
    "canceled_hotel = type_of_hotel_canceled[type_of_hotel_canceled['is_canceled'] == 'Cancelled'].groupby(['hotel']).size().reset_index(name = 'count')\n",
    "canceled_hotel\n",
    "sns.barplot(data = canceled_hotel, x = 'hotel', y = 'count', ax=axs[1]).set_title('Graph showing cancellation rates in city and resort hotel')"
   ]
  },
  {
   "cell_type": "code",
   "execution_count": null,
   "id": "0f7bca0b",
   "metadata": {},
   "outputs": [],
   "source": [
    "hotel_data.groupby(['hotel'])['is_canceled'].mean()"
   ]
  },
  {
   "cell_type": "markdown",
   "id": "953cfc3b",
   "metadata": {},
   "source": [
    "* City hotel has high Cancellation rate than Resort Hotel.\n",
    "* Around 27% for resort hotel and greater than 40 % for city hotel.\n",
    "\n",
    "#### There seems to be a connection between the type of hotel and the chance of cancellation"
   ]
  },
  {
   "cell_type": "markdown",
   "id": "be6d2308",
   "metadata": {},
   "source": [
    "### Customer profile vs Cancellations"
   ]
  },
  {
   "cell_type": "code",
   "execution_count": null,
   "id": "4adebe78",
   "metadata": {},
   "outputs": [],
   "source": [
    "fig, axs = plt.subplots(1,3, figsize=(22,3))\n",
    "\n",
    "\n",
    "# We will just look at number of children that canceled booking.\n",
    "sns.countplot(ax=axs[0], data=hotel_data,x='children',hue='is_canceled').set_title(\"Illustration of number of children canceling booking\")\n",
    "\n",
    "# We will just look at number of babies that canceled booking.\n",
    "sns.countplot(ax=axs[1],data=hotel_data,x='babies',hue='is_canceled').set_title(\"Illustration of number of babies canceling booking\")\n",
    "\n",
    "\n",
    "sns.countplot(ax=axs[2],data=hotel_data,x='adults',hue='is_canceled').set_title(\"Illustration of number of babies canceling booking\")\n"
   ]
  },
  {
   "cell_type": "markdown",
   "id": "bdddb5b5",
   "metadata": {},
   "source": [
    "* There does not appear to be a direct link between the customer profile and the cancellations.\n",
    "* We will later choose to try and convert these features to a single feature (After cleaning and arranging)"
   ]
  },
  {
   "cell_type": "markdown",
   "id": "6738d4ee",
   "metadata": {},
   "source": [
    "### Customer type vs Cancellations"
   ]
  },
  {
   "cell_type": "code",
   "execution_count": null,
   "id": "463b896f",
   "metadata": {},
   "outputs": [],
   "source": [
    "_, ax = plt.subplots( nrows = 1, ncols = 2, figsize = (18,5))\n",
    "sns.countplot(x = 'customer_type', data = hotel_data, ax = ax[0])\n",
    "sns.countplot(x = 'customer_type', data = hotel_data, hue = 'is_canceled', ax = ax[1])\n",
    "plt.show()"
   ]
  },
  {
   "cell_type": "markdown",
   "id": "37ab30ad",
   "metadata": {},
   "source": [
    "* Same order for customer of bookings and cancellation rate"
   ]
  },
  {
   "cell_type": "markdown",
   "id": "e080ccf0",
   "metadata": {},
   "source": [
    "### Reservation status vs Cancellations"
   ]
  },
  {
   "cell_type": "code",
   "execution_count": null,
   "id": "d5338362",
   "metadata": {},
   "outputs": [],
   "source": [
    "_, ax = plt.subplots( nrows = 1, ncols = 2, figsize = (18,5))\n",
    "sns.countplot(x = 'reservation_status', data = hotel_data, ax = ax[0])\n",
    "sns.countplot(x = 'reservation_status', data = hotel_data, hue = 'is_canceled', ax = ax[1])\n",
    "plt.show()"
   ]
  },
  {
   "cell_type": "markdown",
   "id": "6c58def7",
   "metadata": {},
   "source": [
    "* A strong connection can be seen between the two features\n",
    "* **Because this is the feature we predict we will delete it at the cleaning stage**"
   ]
  },
  {
   "cell_type": "markdown",
   "id": "1dedcb87",
   "metadata": {},
   "source": [
    "## Clean The Data ( part 1 ) :"
   ]
  },
  {
   "cell_type": "markdown",
   "id": "29db4e0e",
   "metadata": {},
   "source": [
    "### Replace missing value"
   ]
  },
  {
   "cell_type": "code",
   "execution_count": null,
   "id": "f7f7f799",
   "metadata": {},
   "outputs": [],
   "source": [
    "clean_data = hotel_data.copy()\n",
    "\n",
    "clean_data.fillna({\"children\": 0}, inplace=True)\n",
    "\n",
    "# missing countries can be labeled unknown\n",
    "clean_data.fillna({\"country\": \"Unknown\"}, inplace=True)\n",
    "\n",
    "# missing agent ID can be zero, presuming the booking was made privately\n",
    "clean_data.fillna({\"agent\": 0}, inplace=True)\n",
    "\n",
    "# missing company ID can be zero (for the same reason as agent ID)\n",
    "clean_data.fillna({\"company\": 0}, inplace=True)"
   ]
  },
  {
   "cell_type": "markdown",
   "id": "8bd2762e",
   "metadata": {},
   "source": [
    "* can assume that null is represents no children\n",
    "* missing countries can be labeled unknown\n",
    "* missing agent ID can be zero, presuming the booking was made privately\n",
    "* missing company ID can be zero (for the same reason as agent ID)\n"
   ]
  },
  {
   "cell_type": "code",
   "execution_count": null,
   "id": "44c2ae9b",
   "metadata": {},
   "outputs": [],
   "source": [
    "clean_data.isnull().sum()/clean_data.shape[0]*100"
   ]
  },
  {
   "cell_type": "markdown",
   "id": "73b973e9",
   "metadata": {},
   "source": [
    "delet  Reservation status..."
   ]
  },
  {
   "cell_type": "markdown",
   "id": "cdc3ef51",
   "metadata": {},
   "source": [
    "## Correlation Heat Map of features"
   ]
  },
  {
   "cell_type": "code",
   "execution_count": null,
   "id": "bc9768fb",
   "metadata": {},
   "outputs": [],
   "source": [
    "corr_matrix = clean_data.corr(method='spearman')\n",
    "fig, ax = plt.subplots(figsize=(25,25))\n",
    "sns.heatmap(clean_data.corr(method='spearman'),annot=True,linewidths=.5)\n"
   ]
  },
  {
   "cell_type": "code",
   "execution_count": null,
   "id": "f6164353",
   "metadata": {},
   "outputs": [],
   "source": [
    "corr_matrix = clean_data.corr()\n",
    "corr_matrix[\"is_canceled\"].sort_values(ascending=False)"
   ]
  },
  {
   "cell_type": "markdown",
   "id": "e8f55bf4",
   "metadata": {},
   "source": [
    "#### At this stage, we will examine only the numerical features (later we will convert additional features)\n",
    "\n",
    "#### The must strong connections are between cancelesion and this features:\n",
    "* lead_time \n",
    "* total_of_special_requests\n",
    "* required_car_parking_spaces\n",
    "* previous_cancellations"
   ]
  },
  {
   "cell_type": "markdown",
   "id": "870f572b",
   "metadata": {},
   "source": [
    "## Depth analysis of the strong bond :"
   ]
  },
  {
   "cell_type": "markdown",
   "id": "f4b522e1",
   "metadata": {},
   "source": [
    "### Lead time"
   ]
  },
  {
   "cell_type": "code",
   "execution_count": null,
   "id": "a95644e7",
   "metadata": {},
   "outputs": [],
   "source": [
    "# hist plot of lead time\n",
    "# kde = kernel density estimation (displays distribution function, density curve)\n",
    "# shows the distribution and highest concentration points\n",
    "plt.figure(figsize=(10,5))\n",
    "lead_time = clean_data['lead_time']\n",
    "lead_time = pd.DataFrame(sorted(lead_time, reverse = True), columns = ['Lead'])\n",
    "sns.histplot(lead_time, kde=True)\n",
    "plt.title(\"Lead Time\", size=20)\n",
    "plt.xlabel(\"lead time days\", size=15)\n",
    "plt.tight_layout()\n",
    "plt.show()"
   ]
  },
  {
   "cell_type": "code",
   "execution_count": null,
   "id": "985207b8",
   "metadata": {},
   "outputs": [],
   "source": [
    "lead_time_1 = clean_data[clean_data[\"lead_time\"] < 50]\n",
    "lead_time_2 = clean_data[clean_data[\"lead_time\"] < 100]\n",
    "lead_time_3 = clean_data[clean_data[\"lead_time\"] < 150]\n",
    "lead_time_4 = clean_data[clean_data[\"lead_time\"] < 200]\n",
    "lead_time_5 = clean_data[(clean_data[\"lead_time\"] >= 200) & (clean_data[\"lead_time\"] < 365)]\n",
    "lead_time_6 = clean_data[clean_data[\"lead_time\"] >= 365]\n",
    "# calculates cancellations according to lead time groups\n",
    "lead_cancel_1 = lead_time_1[\"is_canceled\"].value_counts()\n",
    "lead_cancel_2 = lead_time_2[\"is_canceled\"].value_counts()\n",
    "lead_cancel_3 = lead_time_3[\"is_canceled\"].value_counts()\n",
    "lead_cancel_4 = lead_time_4[\"is_canceled\"].value_counts()\n",
    "lead_cancel_5 = lead_time_5[\"is_canceled\"].value_counts()\n",
    "lead_cancel_6 = lead_time_6[\"is_canceled\"].value_counts()"
   ]
  },
  {
   "cell_type": "code",
   "execution_count": null,
   "id": "9c6984f6",
   "metadata": {},
   "outputs": [],
   "source": [
    "# total count of lead time according to cancellation\n",
    "total_lead_days_cancel = pd.DataFrame(data=[lead_cancel_1,lead_cancel_2,lead_cancel_3,lead_cancel_4,lead_cancel_5,lead_cancel_6],\n",
    "                                      index=[\"[0,50) days\",\"[50,100) days\",\"[100,150) days\",\"[150,200) days\",\"200,365) days\",\"[365,max) days\"])\n",
    "\n",
    "# pie plot for each lead time group\n",
    "fig, ax = plt.subplots(2,3, figsize=(15,6))\n",
    "ax[0,0].pie(np.array([total_lead_days_cancel[0][0], total_lead_days_cancel[1][0]]),\n",
    "          labels=[\"not_canceled\", \"canceled\"], autopct='%1.1f%%', startangle=90,\n",
    "          colors=['forestgreen', 'firebrick'])\n",
    "ax[0,0].set_title(\"lead_time [0,50) days\", size=15)\n",
    "ax[0,1].pie(np.array([total_lead_days_cancel[0][1], total_lead_days_cancel[1][1]]),\n",
    "          labels=[\"not_canceled\", \"canceled\"], autopct='%1.1f%%', startangle=90,\n",
    "          colors=['forestgreen', 'firebrick'])\n",
    "ax[0,1].set_title(\"lead_time [50,100) days\", size=15)\n",
    "ax[0,2].pie(np.array([total_lead_days_cancel[0][2], total_lead_days_cancel[1][2]]),\n",
    "          labels=[\"not_canceled\", \"canceled\"], autopct='%1.1f%%', startangle=90,\n",
    "          colors=['forestgreen', 'firebrick'])\n",
    "ax[0,2].set_title(\"lead_time [100,150) days\", size=15)\n",
    "\n",
    "\n",
    "ax[1,0].pie(np.array([total_lead_days_cancel[0][3], total_lead_days_cancel[1][3]]),\n",
    "          labels=[\"not_canceled\", \"canceled\"], autopct='%1.1f%%', startangle=90,\n",
    "          colors=['forestgreen', 'firebrick'])\n",
    "ax[1,0].set_title(\"lead_time [150,200) days\", size=15)\n",
    "\n",
    "ax[1,1].pie(np.array([total_lead_days_cancel[0][4], total_lead_days_cancel[1][4]]),\n",
    "          labels=[\"not_canceled\", \"canceled\"], autopct='%1.1f%%', startangle=90,\n",
    "          colors=['forestgreen', 'firebrick'])\n",
    "ax[1,1].set_title(\"lead_time [200,356) days\", size=15)\n",
    "\n",
    "ax[1,2].pie(np.array([total_lead_days_cancel[0][5], total_lead_days_cancel[1][5]]),\n",
    "          labels=[\"not_canceled\", \"canceled\"], autopct='%1.1f%%', startangle=90,\n",
    "          colors=['forestgreen', 'firebrick'])\n",
    "ax[1,2].set_title(\"lead_time [356,max) days\", size=15)\n",
    "\n",
    "plt.tight_layout()\n",
    "plt.show()"
   ]
  },
  {
   "cell_type": "markdown",
   "id": "67f7fd50",
   "metadata": {},
   "source": [
    "#### It can be clearly seen, as the lead time increases the chance of cancellation increases :\n",
    "* And that does make sense, since there is more time to cancel, and the chances of change are greater"
   ]
  },
  {
   "cell_type": "markdown",
   "id": "e54226d7",
   "metadata": {},
   "source": [
    "### Special Requests"
   ]
  },
  {
   "cell_type": "code",
   "execution_count": null,
   "id": "df5d3669",
   "metadata": {},
   "outputs": [],
   "source": [
    "# plot special requests according to cancellations\n",
    "plt.figure(figsize=(10,5))\n",
    "sns.countplot(x=clean_data[\"total_of_special_requests\"], hue=clean_data[\"is_canceled\"])\n",
    "plt.title(\"Special Requests\", size=20)\n",
    "plt.xlabel(\"Number of Special Requests\", size=15)\n",
    "plt.legend([\"not canceled\", \"canceled\"])\n",
    "plt.tight_layout()\n",
    "plt.show()\n",
    "\n",
    "# Nearly half of the bookings without special requests are canceled."
   ]
  },
  {
   "cell_type": "markdown",
   "id": "e3fc1987",
   "metadata": {},
   "source": [
    "#### There is a strong connection between the number of requests and the cancellations\n",
    "* The more requests there are the chance of cancellation decreases significantly\n",
    "* One request is enough to greatly reduce the chance of cancellation"
   ]
  },
  {
   "cell_type": "markdown",
   "id": "748138cb",
   "metadata": {},
   "source": [
    "## A combination of the two features"
   ]
  },
  {
   "cell_type": "code",
   "execution_count": null,
   "id": "527f598a",
   "metadata": {},
   "outputs": [],
   "source": [
    "var_a = 'lead_time'\n",
    "var_b = 'total_of_special_requests'\n",
    "\n",
    "canceled = clean_data[clean_data['is_canceled'] == 1]\n",
    "not_canceled = clean_data[clean_data['is_canceled'] == 0]"
   ]
  },
  {
   "cell_type": "code",
   "execution_count": null,
   "id": "1028771b",
   "metadata": {},
   "outputs": [],
   "source": [
    "sns.set(color_codes=True)\n",
    "fig,ax=plt.subplots(figsize=(16,8))\n",
    "\n",
    "sns.regplot(var_a, var_b, canceled,ax=ax, \n",
    "            scatter_kws={\"marker\": \".\", \"color\": \"blue\"},\n",
    "            line_kws = {\"linewidth\": \"1\", \"color\": \"blue\"},\n",
    "            order = 3,\n",
    "            label = 'canceled')\n",
    "sns.regplot(var_a, var_b, not_canceled,ax=ax, \n",
    "            scatter_kws={\"marker\": \".\", \"color\": \"orange\"},\n",
    "            line_kws = {\"linewidth\": \"1\", \"color\": \"orange\"},\n",
    "            order = 3,\n",
    "            label = 'not canceled')\n",
    "\n",
    "fig.legend(loc=\"lower right\")\n",
    "fig.suptitle(f\"Scatter plot of {var_a} and {var_b}\")"
   ]
  },
  {
   "cell_type": "markdown",
   "id": "e3f7fb7e",
   "metadata": {},
   "source": [
    "### The following plot shows the two points presented earlier\n",
    "* Relationship between the number of requests and cancellations\n",
    "* Relationship between order time and cancellations\n",
    "\n",
    "* The sheer majority of the blue dots in the lower right quarter of the graph"
   ]
  },
  {
   "cell_type": "markdown",
   "id": "cdbcc943",
   "metadata": {},
   "source": [
    "## Clean The Data ( part 2 ) :"
   ]
  },
  {
   "cell_type": "code",
   "execution_count": null,
   "id": "59ce3462",
   "metadata": {},
   "outputs": [],
   "source": [
    "hot_data = clean_data.copy()"
   ]
  },
  {
   "cell_type": "markdown",
   "id": "73ca038a",
   "metadata": {},
   "source": [
    "### Categories to One Hot :"
   ]
  },
  {
   "cell_type": "code",
   "execution_count": null,
   "id": "06c4a316",
   "metadata": {},
   "outputs": [],
   "source": [
    "hot_data = hot_data.drop('reservation_status_date', axis = 1)\n",
    "hot_data = hot_data.drop('reservation_status', axis = 1)"
   ]
  },
  {
   "cell_type": "code",
   "execution_count": null,
   "id": "6f51510a",
   "metadata": {},
   "outputs": [],
   "source": [
    "from sklearn.datasets import load_iris\n",
    "from sklearn.linear_model import LogisticRegression\n",
    "\n",
    "hot_data = pd.get_dummies(hot_data, prefix='Category_', columns=['hotel','arrival_date_month','meal','country','market_segment',\n",
    "                                                                'distribution_channel','reserved_room_type','assigned_room_type',\n",
    "                                                                'deposit_type','customer_type'])"
   ]
  },
  {
   "cell_type": "code",
   "execution_count": null,
   "id": "c982a768",
   "metadata": {},
   "outputs": [],
   "source": [
    "hot_data.shape"
   ]
  },
  {
   "cell_type": "markdown",
   "id": "f98fb9d9",
   "metadata": {},
   "source": [
    "### Categories to Numbers :"
   ]
  },
  {
   "cell_type": "code",
   "execution_count": null,
   "id": "0c7bcd71",
   "metadata": {},
   "outputs": [],
   "source": [
    "def setDictionary(dictionary,unique_data_arr): \n",
    "    for i in range (len(unique_data_arr)):\n",
    "        dictionary[unique_data_arr[i]] = i\n",
    "    return dictionary"
   ]
  },
  {
   "cell_type": "code",
   "execution_count": null,
   "id": "ed8755b6",
   "metadata": {},
   "outputs": [],
   "source": [
    "num_data = clean_data.copy()\n",
    "\n",
    "# hotel to bool\n",
    "num_data['hotel']= num_data['hotel'].replace([\"Resort Hotel\",\"City Hotel\"],[1,0])\n",
    "\n",
    "# arrival_date_month to int \n",
    "month_dict = {'January': 0, 'February': 1, 'March': 2, 'April': 3, 'May': 4, 'June': 5, 'July': 6, 'August': 7, 'September': 8, 'October': 9, 'November': 10, 'December': 11} \n",
    "num_data['arrival_date_month']= num_data['arrival_date_month'].map(month_dict)\n",
    "\n",
    "# meal to int \n",
    "meal_dict = {'BB':1, 'FB':2 ,'HB':3, 'SC':4 ,'Undefined':0}\n",
    "num_data['meal'] = num_data['meal'].map(meal_dict)\n",
    "\n",
    "\n",
    "# countery to int \n",
    "country_dict ={}\n",
    "country_arr = num_data['country'].unique()\n",
    "country_dict = setDictionary(country_dict, num_data['country'].unique())\n",
    "num_data['country'] = num_data['country'].map(country_dict)\n",
    "\n",
    "# market_segment to int \n",
    "market_segment_dict ={}\n",
    "market_segment_dict = setDictionary(market_segment_dict,num_data['market_segment'].unique())\n",
    "num_data['market_segment'] = num_data['market_segment'].map(market_segment_dict) \n",
    "\n",
    "# distribution_channel to int\n",
    "distribution_channel_dict = {}\n",
    "distribution_channel_dict = setDictionary(distribution_channel_dict,num_data['distribution_channel'].unique())\n",
    "num_data['distribution_channel'] = num_data['distribution_channel'].map(distribution_channel_dict) \n",
    "\n",
    "# reserved_room_type to int\n",
    "reserved_room_type_dict = {}\n",
    "reserved_room_type_dict = setDictionary(reserved_room_type_dict,num_data['reserved_room_type'].unique())\n",
    "num_data['reserved_room_type'] = num_data['reserved_room_type'].map(reserved_room_type_dict)\n",
    "\n",
    "# assigned_room_type_dict TO INT \n",
    "assigned_room_type_dict = {}\n",
    "assigned_room_type_dict = setDictionary(assigned_room_type_dict, num_data['assigned_room_type'].unique())\n",
    "num_data['assigned_room_type'] = num_data['assigned_room_type'].map(assigned_room_type_dict)\n",
    "\n",
    "# deposit_typ TO INT \n",
    "deposit_type_dict = {}\n",
    "deposit_type_dict = setDictionary(deposit_type_dict,num_data['deposit_type'].unique())\n",
    "num_data['deposit_type'] = num_data['deposit_type'].map(deposit_type_dict)\n",
    "\n",
    "# customer_type TO INT \n",
    "customer_type_dict = {}\n",
    "customer_type_dict = setDictionary(customer_type_dict, num_data['customer_type'].unique())\n",
    "num_data['customer_type'] = num_data['customer_type'].map(customer_type_dict)\n",
    "\n",
    "# reservation_status TO INT \n",
    "reservation_status_dict = {}\n",
    "reservation_status_dict = setDictionary(reservation_status_dict,num_data['reservation_status'].unique())\n",
    "num_data['reservation_status'] = num_data['reservation_status'].map(reservation_status_dict)\n",
    "\n",
    "# reservation_status_date TO INT \n",
    "reservation_status_date_dict ={}\n",
    "reservation_status_date_dict =setDictionary(reservation_status_date_dict, num_data['reservation_status_date'].unique())\n",
    "num_data['reservation_status_date'] = num_data['reservation_status_date'].map(reservation_status_date_dict)\n",
    "\n",
    "num_data.shape"
   ]
  },
  {
   "cell_type": "markdown",
   "id": "5630befa",
   "metadata": {},
   "source": [
    "#### All features are number now"
   ]
  },
  {
   "cell_type": "markdown",
   "id": "7c0e29a7",
   "metadata": {},
   "source": [
    "### Delete features :"
   ]
  },
  {
   "cell_type": "markdown",
   "id": "77b931ce",
   "metadata": {},
   "source": [
    "#### We will check if there are strong ties with the features we created"
   ]
  },
  {
   "cell_type": "code",
   "execution_count": null,
   "id": "2c458cfe",
   "metadata": {},
   "outputs": [],
   "source": [
    "corr_matrix = num_data.corr()\n",
    "corr_matrix[\"is_canceled\"].sort_values(ascending=False)"
   ]
  },
  {
   "cell_type": "markdown",
   "id": "55834a21",
   "metadata": {},
   "source": [
    "#### High dependence between reservation_status and is_canceled  (0.980601)"
   ]
  },
  {
   "cell_type": "code",
   "execution_count": null,
   "id": "d5e11735",
   "metadata": {},
   "outputs": [],
   "source": [
    "clean_data = clean_data.drop('reservation_status_date', axis = 1)\n",
    "clean_data = clean_data.drop('reservation_status', axis = 1)\n",
    "\n",
    "num_data = num_data.drop('reservation_status_date', axis = 1)\n",
    "num_data = num_data.drop('reservation_status', axis = 1)"
   ]
  },
  {
   "cell_type": "markdown",
   "id": "bdb8af02",
   "metadata": {},
   "source": [
    "### Create combination data of hot vector and numbers"
   ]
  },
  {
   "cell_type": "code",
   "execution_count": null,
   "id": "8afa944a",
   "metadata": {},
   "outputs": [],
   "source": [
    "clean_data['arrival_date_month'] = num_data['arrival_date_month']\n",
    "clean_data['hotel'] = num_data['hotel']"
   ]
  },
  {
   "cell_type": "code",
   "execution_count": null,
   "id": "68803bf5",
   "metadata": {},
   "outputs": [],
   "source": [
    "clean_data =clean_data.drop('country', axis=1)"
   ]
  },
  {
   "cell_type": "code",
   "execution_count": null,
   "id": "7f00bb6b",
   "metadata": {},
   "outputs": [],
   "source": [
    "clean_data = pd.get_dummies(clean_data, prefix='Category_', columns=['meal','market_segment', 'distribution_channel',\n",
    "                                                                     'reserved_room_type','assigned_room_type',\n",
    "                                                                    'deposit_type','customer_type'])"
   ]
  },
  {
   "cell_type": "code",
   "execution_count": null,
   "id": "56813c65",
   "metadata": {},
   "outputs": [],
   "source": [
    "clean_data.info()"
   ]
  },
  {
   "cell_type": "markdown",
   "id": "1131e111",
   "metadata": {},
   "source": [
    "* Delete country\n",
    "* Hotel and arrival_date_month to number \n",
    "* All othter to hot vector"
   ]
  },
  {
   "cell_type": "markdown",
   "id": "a036f736",
   "metadata": {},
   "source": [
    "### Shapes"
   ]
  },
  {
   "cell_type": "code",
   "execution_count": null,
   "id": "c0755b8b",
   "metadata": {},
   "outputs": [],
   "source": [
    "print(f'number data shape {clean_data.shape}')\n",
    "print(f'hot vector data shape {clean_data.shape}')\n",
    "print(f'num data shape {num_data.shape}')"
   ]
  },
  {
   "cell_type": "code",
   "execution_count": null,
   "id": "bbec3d0b",
   "metadata": {},
   "outputs": [],
   "source": [
    "data = {\"clean_data\": clean_data, \"hot_data\": hot_data, \"num_data\": num_data}"
   ]
  },
  {
   "cell_type": "markdown",
   "id": "6634c784",
   "metadata": {},
   "source": [
    "#  2. Model :"
   ]
  },
  {
   "cell_type": "markdown",
   "id": "4e3e63dc",
   "metadata": {},
   "source": [
    "## Imports"
   ]
  },
  {
   "cell_type": "code",
   "execution_count": null,
   "id": "5aadf0ac",
   "metadata": {},
   "outputs": [],
   "source": [
    "from sklearn.linear_model import LogisticRegression\n",
    "from sklearn.model_selection import train_test_split\n",
    "from sklearn.metrics import accuracy_score,confusion_matrix, roc_curve, roc_auc_score,auc\n",
    "from sklearn.model_selection import train_test_split\n",
    "from sklearn.datasets import load_iris\n"
   ]
  },
  {
   "cell_type": "markdown",
   "id": "5da0d22d",
   "metadata": {},
   "source": [
    "## Data distribution (train, test)"
   ]
  },
  {
   "cell_type": "code",
   "execution_count": null,
   "id": "893fc96c",
   "metadata": {},
   "outputs": [],
   "source": [
    "def train(clean_data):\n",
    "    y = clean_data['is_canceled']\n",
    "    X = clean_data.drop('is_canceled',axis = 1)\n",
    "    X_train, X_test, y_train, y_test = train_test_split(X,y,test_size=0.2,random_state=42)\n",
    "    \n",
    "    \n",
    "    clf = LogisticRegression(random_state=0).fit(X_train, y_train)\n",
    "    y_pred = clf.predict(X_test)\n",
    "    \n",
    "    predicted_probs = clf.predict_proba(X_test)\n",
    "    \n",
    "    return({\"clf\": clf, \"y_t\": y_test, \"y_p\": y_pred, \"p_p\": predicted_probs})\n",
    "\n",
    "    \n",
    "    "
   ]
  },
  {
   "cell_type": "markdown",
   "id": "2e6a4dc2",
   "metadata": {},
   "source": [
    "* 30% distribution for testing"
   ]
  },
  {
   "cell_type": "code",
   "execution_count": null,
   "id": "e5be0158",
   "metadata": {},
   "outputs": [],
   "source": [
    "ans = {}\n",
    "for key in data:\n",
    "    ans[key] = train(data[key])\n"
   ]
  },
  {
   "cell_type": "code",
   "execution_count": null,
   "id": "b4125adb",
   "metadata": {},
   "outputs": [],
   "source": [
    "for key, value in ans.items():\n",
    "    print(f'{key} accuracy -> {accuracy_score(value[\"y_t\"],value[\"y_p\"])}')\n"
   ]
  },
  {
   "cell_type": "markdown",
   "id": "17555a7e",
   "metadata": {},
   "source": [
    "* hot_data win"
   ]
  },
  {
   "cell_type": "code",
   "execution_count": null,
   "id": "5811e0e2",
   "metadata": {},
   "outputs": [],
   "source": [
    "for key, value in ans.items():\n",
    "    unique, counts = np.unique(value[\"y_p\"], return_counts=True)\n",
    "    print(f' \\n  {key} :')\n",
    "    print(dict(zip(unique, counts)))\n",
    "    print(f'{value[\"y_t\"].value_counts()}')\n",
    "    "
   ]
  },
  {
   "cell_type": "code",
   "execution_count": null,
   "id": "56cfebbf",
   "metadata": {},
   "outputs": [],
   "source": [
    "clf, y_test, y_pred , predicted_probs = ans['hot_data'].values()\n",
    "y_score = predicted_probs[:,1]"
   ]
  },
  {
   "cell_type": "markdown",
   "id": "c93ddb5f",
   "metadata": {},
   "source": [
    "# 3. Evaluate results\n"
   ]
  },
  {
   "cell_type": "code",
   "execution_count": null,
   "id": "22fd68ea",
   "metadata": {},
   "outputs": [],
   "source": [
    "from sklearn import metrics\n",
    "import plotly.figure_factory as ff"
   ]
  },
  {
   "cell_type": "markdown",
   "id": "bfa61ee3",
   "metadata": {},
   "source": [
    "### comparison True positive, false positive.."
   ]
  },
  {
   "cell_type": "code",
   "execution_count": null,
   "id": "ebda030d",
   "metadata": {},
   "outputs": [],
   "source": [
    "from sklearn.metrics import confusion_matrix\n",
    "mat = confusion_matrix(y_test, y_pred)\n",
    "mat"
   ]
  },
  {
   "cell_type": "code",
   "execution_count": null,
   "id": "3465636d",
   "metadata": {},
   "outputs": [],
   "source": [
    "fig = ff.create_annotated_heatmap(z=mat,\n",
    "                                  x=[\"False\", \"True\"], y=[\"False\", \"True\"], \n",
    "                                  showscale=True)\n",
    "fig.update_layout(font=dict(size=12))\n",
    "# Add Labels\n",
    "fig.add_annotation(x=0,y=0, text=\"True Negative\", \n",
    "                   yshift=40, showarrow=False, font=dict(color=\"black\",size=24))\n",
    "fig.add_annotation(x=1,y=0, text=\"False Positive\", \n",
    "                   yshift=40, showarrow=False, font=dict(color=\"white\",size=24))\n",
    "fig.add_annotation(x=0,y=1, text=\"False Negative\", \n",
    "                   yshift=40, showarrow=False, font=dict(color=\"white\",size=24))\n",
    "fig.add_annotation(x=1,y=1, text=\"True Positive\", \n",
    "                   yshift=40, showarrow=False, font=dict(color=\"white\",size=24))\n",
    "\n",
    "fig.update_xaxes(title=\"Predicted\")"
   ]
  },
  {
   "cell_type": "markdown",
   "id": "4d6a02c2",
   "metadata": {},
   "source": [
    "### Comparison precision, recall,  f1-score"
   ]
  },
  {
   "cell_type": "code",
   "execution_count": null,
   "id": "02274d05",
   "metadata": {},
   "outputs": [],
   "source": [
    "for key, value in ans.items():\n",
    "    unique, counts = np.unique(value[\"y_p\"], return_counts=True)\n",
    "    print(f' \\n  {key} :')\n",
    "    \n",
    "    print(metrics.classification_report(value[\"y_t\"], value[\"y_p\"]))\n"
   ]
  },
  {
   "cell_type": "code",
   "execution_count": null,
   "id": "5b3870e7",
   "metadata": {},
   "outputs": [],
   "source": [
    "def plotPR(precision, recall):\n",
    "    plt.figure()\n",
    "    plt.plot(recall, precision, label='PR curve')\n",
    "    plt.xlim([0.0, 1.0])\n",
    "    plt.ylim([0.0, 1.0])\n",
    "    plt.xlabel('Recall')\n",
    "    plt.ylabel('Precision')\n",
    "    plt.title('Precision Recall curve')\n",
    "    plt.legend(loc='lower left')\n",
    "    plt.show()"
   ]
  },
  {
   "cell_type": "code",
   "execution_count": null,
   "id": "6957abdf",
   "metadata": {},
   "outputs": [],
   "source": [
    "precision, recall, thresholds = sklearn.metrics.precision_recall_curve(y_test, y_score, pos_label=1)\n",
    "plotPR(precision, recall)"
   ]
  },
  {
   "cell_type": "markdown",
   "id": "5a9b3706",
   "metadata": {},
   "source": [
    "### ROC Curve"
   ]
  },
  {
   "cell_type": "code",
   "execution_count": null,
   "id": "6458049f",
   "metadata": {},
   "outputs": [],
   "source": [
    "def plotRoc(fpr, tpr, auc):\n",
    "    plt.figure()\n",
    "    plt.plot(fpr, tpr, label='ROC curve (AUC = %0.2f)' % auc)\n",
    "    plt.plot([0, 1], [0, 1], 'k--')\n",
    "    plt.xlim([0.0, 1.0])\n",
    "    plt.ylim([0.0, 1.0])\n",
    "    plt.xlabel('False Positive Rate')\n",
    "    plt.ylabel('True Positive Rate')\n",
    "    plt.title('Receiver operating characteristic example')\n",
    "    plt.legend(loc=\"lower right\")\n",
    "    plt.show()"
   ]
  },
  {
   "cell_type": "code",
   "execution_count": null,
   "id": "24cdd269",
   "metadata": {},
   "outputs": [],
   "source": [
    "auc = sklearn.metrics.roc_auc_score(y_test, y_score)\n",
    "fpr, tpr, thresholds = sklearn.metrics.roc_curve(y_test, y_score)\n",
    "plotRoc(fpr, tpr, auc)"
   ]
  },
  {
   "cell_type": "code",
   "execution_count": null,
   "id": "90515d2d",
   "metadata": {},
   "outputs": [],
   "source": []
  },
  {
   "cell_type": "code",
   "execution_count": null,
   "id": "2080b829",
   "metadata": {},
   "outputs": [],
   "source": []
  },
  {
   "cell_type": "code",
   "execution_count": null,
   "id": "6bfca238",
   "metadata": {},
   "outputs": [],
   "source": []
  }
 ],
 "metadata": {
  "kernelspec": {
   "display_name": "Python 3",
   "language": "python",
   "name": "python3"
  },
  "language_info": {
   "codemirror_mode": {
    "name": "ipython",
    "version": 3
   },
   "file_extension": ".py",
   "mimetype": "text/x-python",
   "name": "python",
   "nbconvert_exporter": "python",
   "pygments_lexer": "ipython3",
   "version": "3.8.2"
  }
 },
 "nbformat": 4,
 "nbformat_minor": 5
}
